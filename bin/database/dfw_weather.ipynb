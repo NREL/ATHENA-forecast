{
 "cells": [
  {
   "cell_type": "markdown",
   "metadata": {},
   "source": [
    "# DFW Weather \n",
    "\n",
    "This notebook scrapes the weather data from wunderground and saves it to the database.  Here's an example page:"
   ]
  },
  {
   "cell_type": "markdown",
   "metadata": {},
   "source": [
    "https://www.wunderground.com/history/airportfrompws/KDFW/2015/1/1/CustomHistory.html?dayend=15&monthend=8&yearend=2019&req_city=&req_state=&req_statename=&reqdb.zip=&reqdb.magic=&reqdb.wmo="
   ]
  },
  {
   "cell_type": "code",
   "execution_count": 23,
   "metadata": {},
   "outputs": [],
   "source": [
    "import os\n",
    "import requests\n",
    "import pandas as pd\n",
    "\n",
    "def get_html_from_wunderground(year):\n",
    "\n",
    "    url = \"https://www.wunderground.com/history/airportfrompws/KDFW/\"\n",
    "    url += \"{}/1/1/CustomHistory.html?\".format(year)\n",
    "    url += \"dayend=31&monthend=12&yearend={}\".format(year)\n",
    "    \n",
    "    page = requests.get(url)\n",
    "    assert page.status_code == 200\n",
    "    return page.text\n",
    "\n",
    "def get_df_from_html(year, html):\n",
    "    res = pd.read_html(html)\n",
    "    df = res[1].copy()\n",
    "    columns = ['day', \n",
    "               'high_temp', 'mean_temp', 'low_temp', \n",
    "               'high_dew', 'mean_dew', 'low_dew',\n",
    "               'high_hum', 'mean_hum', 'low_hum',\n",
    "               'high_pres', 'mean_pres', 'low_pres',\n",
    "               'high_vis', 'mean_vis', 'low_vis',\n",
    "               'high_wind', 'mean_wind', 'low_wind',\n",
    "               'precip', 'events']\n",
    "\n",
    "    df.columns = columns\n",
    "    df['month'] = None\n",
    "    df['year'] = year\n",
    "    df = df[ ['year', 'month'] + columns ].copy()\n",
    "    return df\n",
    "\n",
    "def clean_df(df):\n",
    "    months = ['Jan', 'Feb', 'Mar', 'Apr', 'May', 'Jun', \n",
    "              'Jul', 'Aug', 'Sep', 'Oct', 'Nov', 'Dec']\n",
    "    \n",
    "    rows = []\n",
    "    current_month = None\n",
    "    for row in df.to_dict(orient='records'):\n",
    "        if row['day'] in months:\n",
    "            current_month = row['day']\n",
    "        else:\n",
    "            row['month'] = current_month\n",
    "            rows.append(row)\n",
    "\n",
    "    print(len(rows))\n",
    "    return pd.DataFrame(rows)"
   ]
  },
  {
   "cell_type": "code",
   "execution_count": 24,
   "metadata": {},
   "outputs": [
    {
     "name": "stdout",
     "output_type": "stream",
     "text": [
      "365\n",
      "2015 (365, 23)\n",
      "366\n",
      "2016 (366, 23)\n",
      "365\n",
      "2017 (365, 23)\n",
      "365\n",
      "2018 (365, 23)\n",
      "190\n",
      "2019 (190, 23)\n"
     ]
    }
   ],
   "source": [
    "year = 2015\n",
    "\n",
    "dfs = []\n",
    "for year in ['2015', '2016', '2017', '2018', '2019']:\n",
    "\n",
    "    html = get_html_from_wunderground(year)\n",
    "    df = get_df_from_html(year, html)\n",
    "    clean = clean_df(df)\n",
    "    print(year, clean.shape)\n",
    "    clean.to_csv(\"weather_{}.csv\".format(year), index=False)\n",
    "    dfs.append(clean)"
   ]
  },
  {
   "cell_type": "markdown",
   "metadata": {},
   "source": [
    "Create one dataframe"
   ]
  },
  {
   "cell_type": "code",
   "execution_count": 25,
   "metadata": {},
   "outputs": [],
   "source": [
    "df = pd.concat(dfs)"
   ]
  },
  {
   "cell_type": "code",
   "execution_count": 34,
   "metadata": {},
   "outputs": [],
   "source": [
    "df['period'] = df['year'] + \"-\" + df['month'] + \"-\" + df['day']\n",
    "df['period'] = pd.to_datetime(df['period'])"
   ]
  },
  {
   "cell_type": "markdown",
   "metadata": {},
   "source": [
    "Convert numeric columns"
   ]
  },
  {
   "cell_type": "code",
   "execution_count": 67,
   "metadata": {},
   "outputs": [],
   "source": [
    "for col in df.columns:\n",
    "    if col not in ['events', 'period', 'month']:\n",
    "        try:\n",
    "            df[col] = df[col].map(lambda x: x if x != '-' else 0 )\n",
    "            df[col] = df[col].map(lambda x: x if x != 'T' else 0 )\n",
    "            df[col] = df[col].astype('float')\n",
    "        except ValueError as e:\n",
    "            print(e)"
   ]
  },
  {
   "cell_type": "markdown",
   "metadata": {},
   "source": [
    "Map events"
   ]
  },
  {
   "cell_type": "code",
   "execution_count": 82,
   "metadata": {},
   "outputs": [],
   "source": [
    "event_list = clean['events'].fillna(\"\").map(lambda x: x.replace(\"\\t,\", \":\")).drop_duplicates().values"
   ]
  },
  {
   "cell_type": "code",
   "execution_count": 83,
   "metadata": {},
   "outputs": [],
   "source": [
    "from operator import add\n",
    "from functools import reduce\n",
    "\n",
    "event_list = reduce(add, [ x.split(\":\") for x in event_list ])"
   ]
  },
  {
   "cell_type": "code",
   "execution_count": 89,
   "metadata": {},
   "outputs": [
    {
     "data": {
      "text/plain": [
       "['Thunderstorm', 'Fog', 'Snow', 'Hail', 'Rain']"
      ]
     },
     "execution_count": 89,
     "metadata": {},
     "output_type": "execute_result"
    }
   ],
   "source": [
    "event_list = list(set([ x.strip() for x in event_list ]))\n",
    "event_list = [ x for x in event_list if len(x)>0]\n",
    "event_list"
   ]
  },
  {
   "cell_type": "code",
   "execution_count": 90,
   "metadata": {},
   "outputs": [],
   "source": [
    "for event in event_list:\n",
    "    df[event.lower()] = df['events'].map(lambda x: 1 if str(x).find(event)>=0 else 0)"
   ]
  },
  {
   "cell_type": "code",
   "execution_count": 93,
   "metadata": {},
   "outputs": [
    {
     "data": {
      "text/html": [
       "<div>\n",
       "<style scoped>\n",
       "    .dataframe tbody tr th:only-of-type {\n",
       "        vertical-align: middle;\n",
       "    }\n",
       "\n",
       "    .dataframe tbody tr th {\n",
       "        vertical-align: top;\n",
       "    }\n",
       "\n",
       "    .dataframe thead th {\n",
       "        text-align: right;\n",
       "    }\n",
       "</style>\n",
       "<table border=\"1\" class=\"dataframe\">\n",
       "  <thead>\n",
       "    <tr style=\"text-align: right;\">\n",
       "      <th></th>\n",
       "      <th>thunderstorm</th>\n",
       "      <th>fog</th>\n",
       "      <th>snow</th>\n",
       "      <th>hail</th>\n",
       "      <th>rain</th>\n",
       "    </tr>\n",
       "  </thead>\n",
       "  <tbody>\n",
       "    <tr>\n",
       "      <th>0</th>\n",
       "      <td>0</td>\n",
       "      <td>0</td>\n",
       "      <td>0</td>\n",
       "      <td>0</td>\n",
       "      <td>1</td>\n",
       "    </tr>\n",
       "    <tr>\n",
       "      <th>1</th>\n",
       "      <td>1</td>\n",
       "      <td>0</td>\n",
       "      <td>0</td>\n",
       "      <td>0</td>\n",
       "      <td>1</td>\n",
       "    </tr>\n",
       "    <tr>\n",
       "      <th>2</th>\n",
       "      <td>1</td>\n",
       "      <td>0</td>\n",
       "      <td>0</td>\n",
       "      <td>0</td>\n",
       "      <td>1</td>\n",
       "    </tr>\n",
       "    <tr>\n",
       "      <th>3</th>\n",
       "      <td>0</td>\n",
       "      <td>0</td>\n",
       "      <td>0</td>\n",
       "      <td>0</td>\n",
       "      <td>0</td>\n",
       "    </tr>\n",
       "    <tr>\n",
       "      <th>4</th>\n",
       "      <td>0</td>\n",
       "      <td>0</td>\n",
       "      <td>0</td>\n",
       "      <td>0</td>\n",
       "      <td>0</td>\n",
       "    </tr>\n",
       "  </tbody>\n",
       "</table>\n",
       "</div>"
      ],
      "text/plain": [
       "   thunderstorm  fog  snow  hail  rain\n",
       "0             0    0     0     0     1\n",
       "1             1    0     0     0     1\n",
       "2             1    0     0     0     1\n",
       "3             0    0     0     0     0\n",
       "4             0    0     0     0     0"
      ]
     },
     "execution_count": 93,
     "metadata": {},
     "output_type": "execute_result"
    }
   ],
   "source": [
    "df[[ x.lower() for x in event_list]].head()"
   ]
  },
  {
   "cell_type": "markdown",
   "metadata": {},
   "source": [
    "Save to database"
   ]
  },
  {
   "cell_type": "code",
   "execution_count": 96,
   "metadata": {},
   "outputs": [],
   "source": [
    "import athena\n",
    "db = athena.database.AthenDatabase(cache=True, write=True)"
   ]
  },
  {
   "cell_type": "code",
   "execution_count": 97,
   "metadata": {},
   "outputs": [],
   "source": [
    "df.to_sql(\"weather_table\", db.engine, if_exists='replace', index=False, method='multi')\n",
    "db.save_as(df, \"weather_table.csv\")"
   ]
  },
  {
   "cell_type": "markdown",
   "metadata": {},
   "source": [
    "Cleanup"
   ]
  },
  {
   "cell_type": "code",
   "execution_count": 98,
   "metadata": {},
   "outputs": [],
   "source": [
    "!rm weather_20*.csv"
   ]
  },
  {
   "cell_type": "code",
   "execution_count": null,
   "metadata": {},
   "outputs": [],
   "source": []
  }
 ],
 "metadata": {
  "kernelspec": {
   "display_name": "Python 3",
   "language": "python",
   "name": "python3"
  },
  "language_info": {
   "codemirror_mode": {
    "name": "ipython",
    "version": 3
   },
   "file_extension": ".py",
   "mimetype": "text/x-python",
   "name": "python",
   "nbconvert_exporter": "python",
   "pygments_lexer": "ipython3",
   "version": "3.7.4"
  }
 },
 "nbformat": 4,
 "nbformat_minor": 2
}
