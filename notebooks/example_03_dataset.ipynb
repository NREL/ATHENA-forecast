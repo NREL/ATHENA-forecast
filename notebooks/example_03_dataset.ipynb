{
 "cells": [
  {
   "cell_type": "markdown",
   "metadata": {},
   "source": [
    "# The dataset object"
   ]
  },
  {
   "cell_type": "markdown",
   "metadata": {},
   "source": [
    "The dataset object reads standard csv files, checks the frequency, and creates the cross validation indicies for training.  It is an interface between the data in csv format and then transform function that converts the dataset into an input appropriate for a particular algorithm."
   ]
  },
  {
   "cell_type": "code",
   "execution_count": 1,
   "metadata": {},
   "outputs": [],
   "source": [
    "import os\n",
    "import pandas as pd\n",
    "\n",
    "import athena"
   ]
  },
  {
   "cell_type": "markdown",
   "metadata": {},
   "source": [
    "There are several inputs:\n",
    "- The filename of the data to read.  This can be an absolute or relative path, or it may be the name of the file in the environment variable ATHENA_DATA_PATH.\n",
    "- `index`: The column in the csv that contains the timestamp information that will serve as an index.\n",
    "- `freq`: The sample rate of the data.\n",
    "- `max_days`: Optional.  Maximum number of days to use.\n",
    "- `max_training_days`: Optional.  The max number of training days to include with each cross validation set.\n",
    "- `prediction_length`: How many future observations are we forecasting?\n",
    "- `test_start_values`: List of datetime values where cross validation starts.\n",
    "- `test_sequence_length`: The number of steps forward from each `test_start_values` to include in the cross validation. "
   ]
  },
  {
   "cell_type": "markdown",
   "metadata": {},
   "source": [
    "Here are a few examples.\n",
    "\n",
    "        max_training_days=10\n",
    "        predition_length=48    #an entire day\n",
    "        test_sequence_length=1"
   ]
  },
  {
   "cell_type": "code",
   "execution_count": 2,
   "metadata": {},
   "outputs": [
    {
     "data": {
      "text/plain": [
       "<AxesSubplot:>"
      ]
     },
     "execution_count": 2,
     "metadata": {},
     "output_type": "execute_result"
    },
    {
     "data": {
      "image/png": "[encoded data removed]",
      "text/plain": [
       "<Figure size 864x288 with 1 Axes>"
      ]
     },
     "metadata": {
      "needs_background": "light"
     },
     "output_type": "display_data"
    }
   ],
   "source": [
    "ds = athena.Dataset(\"../test/data/dfw_demand.csv.gz\",                \n",
    "                    index=\"timestamp\", \n",
    "                    freq=\"30min\",\n",
    "                    max_days=500,\n",
    "                    max_training_days=10,\n",
    "                    predition_length=48,\n",
    "                    test_start_values=['2019-07-01 00:00:00', '2019-07-03 00:00:00', '2019-07-05 00:00:00'],\n",
    "                    test_sequence_length=1\n",
    "                    )\n",
    "\n",
    "ds.plot_cv()"
   ]
  },
  {
   "cell_type": "markdown",
   "metadata": {},
   "source": [
    "Because the `test_sequence_length` is one, there are only three cross validation tests.  The test sets (blue) are 48 observations long.  The training sets are 48*10 (`max_training_days=10`) observations long."
   ]
  },
  {
   "cell_type": "code",
   "execution_count": 3,
   "metadata": {},
   "outputs": [
    {
     "data": {
      "text/plain": [
       "<AxesSubplot:>"
      ]
     },
     "execution_count": 3,
     "metadata": {},
     "output_type": "execute_result"
    },
    {
     "data": {
      "image/png": "[encoded data removed]",
      "text/plain": [
       "<Figure size 864x288 with 1 Axes>"
      ]
     },
     "metadata": {
      "needs_background": "light"
     },
     "output_type": "display_data"
    }
   ],
   "source": [
    "ds = athena.Dataset(\"../test/data/dfw_demand.csv.gz\",                \n",
    "                    index=\"timestamp\", \n",
    "                    freq=\"30min\",\n",
    "                    max_days=500,\n",
    "                    max_training_days=1,\n",
    "                    predition_length=1,\n",
    "                    test_start_values=['2019-07-01 00:00:00'],\n",
    "                    test_sequence_length=20\n",
    "                    )\n",
    "\n",
    "ds.plot_cv()"
   ]
  },
  {
   "cell_type": "markdown",
   "metadata": {},
   "source": [
    "Here, the `test_sequence_length=20` determines the number of CV sets.  The predition length is 1, so only a single observation is included.  The `max_training_days=1` is set to a small value so that we can still observe the prediction_length.\n",
    "\n",
    "This creates 20 sequential tests that forecast a single step foreward for the day defined by `test_start_values[0]`."
   ]
  },
  {
   "cell_type": "code",
   "execution_count": null,
   "metadata": {},
   "outputs": [],
   "source": []
  }
 ],
 "metadata": {
  "kernelspec": {
   "display_name": "Python 3",
   "language": "python",
   "name": "python3"
  },
  "language_info": {
   "codemirror_mode": {
    "name": "ipython",
    "version": 3
   },
   "file_extension": ".py",
   "mimetype": "text/x-python",
   "name": "python",
   "nbconvert_exporter": "python",
   "pygments_lexer": "ipython3",
   "version": "3.7.9"
  }
 },
 "nbformat": 4,
 "nbformat_minor": 4
}
