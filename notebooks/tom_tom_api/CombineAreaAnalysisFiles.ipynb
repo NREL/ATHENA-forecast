{
 "cells": [
  {
   "cell_type": "markdown",
   "metadata": {},
   "source": [
    "# Combine Area Analysis Files\n",
    "When we make calls to the Tom Tom Area Analysis Api we have to request each day separately (they have a limit of 24 time slots per request, and we want hourly granularity). So if you are wanting a longer chunk of time you end up with a whole collection of files. This can be cumbersome and also space inefficient, since the files all share some identical data (for example, the shape of road segments). This notebook simply helps you combine a collection of separate geojson files into one combined file."
   ]
  },
  {
   "cell_type": "markdown",
   "metadata": {},
   "source": [
    "## Set your filenames here"
   ]
  },
  {
   "cell_type": "code",
   "execution_count": 6,
   "metadata": {},
   "outputs": [
    {
     "name": "stdout",
     "output_type": "stream",
     "text": [
      "File to combine: \n",
      "/Users/mlunacek/nrel/athena/ATHENA-twin-internal/src/athena/.data/AreaAnalysis/AreaAnalysis_20180923.geojson\n",
      "/Users/mlunacek/nrel/athena/ATHENA-twin-internal/src/athena/.data/AreaAnalysis/AreaAnalysis_20180924.geojson\n",
      "/Users/mlunacek/nrel/athena/ATHENA-twin-internal/src/athena/.data/AreaAnalysis/AreaAnalysis_20180925.geojson\n",
      "/Users/mlunacek/nrel/athena/ATHENA-twin-internal/src/athena/.data/AreaAnalysis/AreaAnalysis_20180926.geojson\n",
      "/Users/mlunacek/nrel/athena/ATHENA-twin-internal/src/athena/.data/AreaAnalysis/AreaAnalysis_20180927.geojson\n",
      "/Users/mlunacek/nrel/athena/ATHENA-twin-internal/src/athena/.data/AreaAnalysis/AreaAnalysis_20180928.geojson\n",
      "Will be saved to: \n",
      "/Users/mlunacek/nrel/athena/ATHENA-twin-internal/src/athena/.data/AreaAnalysis/testCombined.geojson\n"
     ]
    }
   ],
   "source": [
    "import os\n",
    "import sys\n",
    "\n",
    "def filename_path(filename):\n",
    "    return os.path.join(os.environ['ATHENA_DATA_PATH'], filename)\n",
    "\n",
    "def create_directory():\n",
    "    directory = os.path.join(os.environ['ATHENA_DATA_PATH'], \"AreaAnalysis\")\n",
    "    if not os.path.exists(directory):\n",
    "        os.mkdir(directory)\n",
    "        \n",
    "\n",
    "create_directory()\n",
    "files_to_combine = [filename_path(\"AreaAnalysis/AreaAnalysis_2018092{}.geojson\".format(i)) for i in range(3,9)] # A list of filenames\n",
    "combined_filename = filename_path(\"AreaAnalysis/testCombined.geojson\") # geojson format\n",
    "\n",
    "for file in files_to_combine:\n",
    "    if (not os.path.exists(file)):\n",
    "            print(\"WARNING: file <\" + file + \"> does not exist. Please double check your filesToCombine list.\", file=sys.stderr)\n",
    "if (os.path.exists(combined_filename)):\n",
    "    print(\"WARNING: combinedFilename <\" + combined_filename + \"> already exists: It will be overwritten\", file=sys.stderr)\n",
    "print(\"File to combine: \\n\" + \"\\n\".join(files_to_combine))\n",
    "print(\"Will be saved to: \\n\" + combined_filename)"
   ]
  },
  {
   "cell_type": "markdown",
   "metadata": {},
   "source": [
    "## Run this cell to actually combine the results."
   ]
  },
  {
   "cell_type": "code",
   "execution_count": 10,
   "metadata": {},
   "outputs": [
    {
     "name": "stdout",
     "output_type": "stream",
     "text": [
      "Processing /Users/mlunacek/nrel/athena/ATHENA-twin-internal/src/athena/.data/AreaAnalysis/AreaAnalysis_20180923.geojson\n",
      "Processing /Users/mlunacek/nrel/athena/ATHENA-twin-internal/src/athena/.data/AreaAnalysis/AreaAnalysis_20180924.geojson\n",
      "Processing /Users/mlunacek/nrel/athena/ATHENA-twin-internal/src/athena/.data/AreaAnalysis/AreaAnalysis_20180925.geojson\n",
      "Processing /Users/mlunacek/nrel/athena/ATHENA-twin-internal/src/athena/.data/AreaAnalysis/AreaAnalysis_20180926.geojson\n",
      "Processing /Users/mlunacek/nrel/athena/ATHENA-twin-internal/src/athena/.data/AreaAnalysis/AreaAnalysis_20180927.geojson\n",
      "Processing /Users/mlunacek/nrel/athena/ATHENA-twin-internal/src/athena/.data/AreaAnalysis/AreaAnalysis_20180928.geojson\n",
      "Finished processing. Writing results to /Users/mlunacek/nrel/athena/ATHENA-twin-internal/src/athena/.data/AreaAnalysis/testCombined.geojson\n"
     ]
    }
   ],
   "source": [
    "import json\n",
    "\n",
    "def perFileProcessing(data):\n",
    "    timeSetNames = data[\"features\"][0][\"properties\"][\"timeSets\"]\n",
    "    data[\"features\"] = data[\"features\"][1:]\n",
    "    for feature in data[\"features\"]:\n",
    "        for segment in feature[\"properties\"][\"segmentTimeResults\"]:\n",
    "            # In each time segment results, remove timeSet and dateRange and replace with the actual time start and end\n",
    "            timeSetId = segment.pop(\"timeSet\", None)\n",
    "            segment.pop(\"dateRange\", None)\n",
    "            segment[\"timeRange\"] = next(x for x in timeSetNames if x[\"@id\"] == timeSetId)[\"name\"]\n",
    "    return data\n",
    "    \n",
    "combinedData = {}\n",
    "print(\"Processing \" + files_to_combine[0])\n",
    "with open(files_to_combine[0], 'r') as fp:\n",
    "    combinedData = perFileProcessing(json.load(fp))\n",
    "    \n",
    "# Now we have the data from the first file. Open the others and add\n",
    "# the time segment data to combinedData\n",
    "for file in files_to_combine[1:]:\n",
    "    print(\"Processing \" + file)\n",
    "    with open(file, 'r') as fp:\n",
    "        data = perFileProcessing(json.load(fp))\n",
    "        for feature in data[\"features\"]:\n",
    "            # Find the corresponding feature in combinedData\n",
    "            segmentId = feature[\"properties\"][\"segmentId\"]\n",
    "            combinedFeature = next(x for x in combinedData[\"features\"] if x[\"properties\"][\"segmentId\"] == segmentId)\n",
    "            if (combinedFeature == None):\n",
    "                print(\"WARNING: Couldn't find segmentId \" + str(segmentId) + \" in file \" + file, file=sys.stderr)\n",
    "            else:\n",
    "                # And then add these time segments to that feature\n",
    "                timeSegments = feature[\"properties\"][\"segmentTimeResults\"]\n",
    "                combinedFeature[\"properties\"][\"segmentTimeResults\"] = combinedFeature[\"properties\"][\"segmentTimeResults\"] + timeSegments\n",
    "\n",
    "print(\"Finished processing. Writing results to \" + combined_filename)\n",
    "with open(combined_filename, 'w') as fp:\n",
    "    json.dump(combinedData, fp)"
   ]
  },
  {
   "cell_type": "code",
   "execution_count": null,
   "metadata": {},
   "outputs": [],
   "source": []
  }
 ],
 "metadata": {
  "kernelspec": {
   "display_name": "Python 3",
   "language": "python",
   "name": "python3"
  },
  "language_info": {
   "codemirror_mode": {
    "name": "ipython",
    "version": 3
   },
   "file_extension": ".py",
   "mimetype": "text/x-python",
   "name": "python",
   "nbconvert_exporter": "python",
   "pygments_lexer": "ipython3",
   "version": "3.7.4"
  }
 },
 "nbformat": 4,
 "nbformat_minor": 2
}
