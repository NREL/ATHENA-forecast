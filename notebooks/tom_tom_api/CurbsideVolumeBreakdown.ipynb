{
 "cells": [
  {
   "cell_type": "markdown",
   "metadata": {},
   "source": [
    "# Traffic Volume Breakdown by Curb\n",
    "The Tom Tom Area Analysis data can tell us how many unique vehicles passed over a curb segment in a given hour. To do this we manually determine what segmentIds correspond to the different terminal curbsides (listed in variable `terminalsSegments`), and then parse through the geojson file collecting the `sampleSize` attribute for each segment. Often a curb will be made up of multiple segments. This breakdown doesn't do any aggregating or averaging, but rather just collects the data for each segment seperately. The results are saved in a csv file with one row for each segmentId."
   ]
  },
  {
   "cell_type": "markdown",
   "metadata": {},
   "source": [
    "## Set your filenames here"
   ]
  },
  {
   "cell_type": "code",
   "execution_count": 2,
   "metadata": {},
   "outputs": [],
   "source": [
    "from os import path\n",
    "import sys\n",
    "import datetime\n",
    "\n",
    "import os\n",
    "import sys\n",
    "\n",
    "def filename_path(filename):\n",
    "    return os.path.join(os.environ['ATHENA_DATA_PATH'], filename)\n",
    "\n",
    "def create_directory():\n",
    "    directory = os.path.join(os.environ['ATHENA_DATA_PATH'], \"CurbsideBreakdown\")\n",
    "    if not os.path.exists(directory):\n",
    "        os.mkdir(directory)\n",
    "        \n",
    "create_directory()\n",
    "\n",
    "\n",
    "dataFile = filename_path(\"AreaAnalysis/AreaAnalysis_Combined.geojson\") # geojson format\n",
    "timeStamp = datetime.datetime(2018, 9, 23, 0, 0, 0, 0) # This should be the first date present in dataFile\n",
    "resultsFile = filename_path(\"CurbsideBreakdown/TrafficCountBreakdownByTerminal.csv\") # csv format\n",
    "\n",
    "if (not path.exists(dataFile)):\n",
    "    print(\"WARNING: dataFile <\" + dataFile + \"> does not exist\", file=sys.stderr)\n",
    "if (path.exists(resultsFile)):\n",
    "    print(\"WARNING: resultsFile <\" + resultsFile + \"> already exists and will be overwritten\", file=sys.stderr)"
   ]
  },
  {
   "cell_type": "markdown",
   "metadata": {},
   "source": [
    "## Run this cell to actually extract the curbside volume numbers and save to resultsFile"
   ]
  },
  {
   "cell_type": "code",
   "execution_count": 3,
   "metadata": {},
   "outputs": [
    {
     "name": "stdout",
     "output_type": "stream",
     "text": [
      "Processing curbs in terminal A\n",
      "Processing curbs in terminal B\n",
      "Processing curbs in terminal C\n",
      "Processing curbs in terminal D\n",
      "Processing curbs in terminal E\n",
      "Saving results to /Users/mlunacek/nrel/athena/ATHENA-twin-internal/src/athena/.data/CurbsideBreakdown/TrafficCountBreakdownByTerminal.csv\n"
     ]
    }
   ],
   "source": [
    "import json\n",
    "import pandas as pd\n",
    "\n",
    "terminalSegments = {\n",
    "  \"A\": {\n",
    "    \"top1\": [488400001916888, 488400001819546, 488400001051330, 488400001819545, 488400001944098, 488400001499749, -488400001499750, -488400001440507, -488400001068906, -488400001068907, -488400001440508, -488400001440506],\n",
    "    \"top2\": [-488400001231410, -488400001231409, -488400001231408, -488400001231407],\n",
    "    \"bottom1\": [488400004592626, 488400001816234, 488400001636761, 488400004593434, -488400001816233],\n",
    "    \"bottom2\": [488400001892282]\n",
    "  },\n",
    "  \"B\": {\n",
    "    \"top1\": [-488400001541937, 488400001812026, -488400000138950, -488400000138951],\n",
    "    \"top2\": [488400000209688, 488400001253862],\n",
    "    \"top3\": [488400001233111, 488400001171846, 488400001367832]\n",
    "  },\n",
    "  \"C\": {\n",
    "    \"top1\": [488400001363987, 488400000262174, 488400000262173],\n",
    "    \"top2\": [488400001084985, 488400001717041, 488400001051703, 488400001051704],\n",
    "    \"top3\": [488400001440464, 488400001282416, 488400000210518, 488400001349998],\n",
    "    \"bottom1\": [488400001236821, 488400001196888],\n",
    "    \"bottom2\": [488400001411982],\n",
    "    \"bottom3\": [488400001480332]\n",
    "  },\n",
    "  \"D\": {\n",
    "    \"top1\": [488400001231232, 488400001155549, 488400001142328, 488400000993705, 488400001746378, 488400001736451, 488400000267344, 488400000267345, 488400001720769],\n",
    "    \"bottom1\": [488400001746372, 488400001065468, 488400000321387, 488400001102357]\n",
    "  },\n",
    "  \"E\": {\n",
    "    \"top1\": [-488400001537806, -488400001537807, -488400001537805],\n",
    "    \"top2\": [488400001098621, -488400001599026, -488400001194605],\n",
    "    \"bottom1\": [488400001429739],\n",
    "    \"bottom2\": [488400000290828, -488400001224646, -488400000313157, 488400000321386, -488400001149285]\n",
    "  }\n",
    "}\n",
    "\n",
    "with open(dataFile, 'r') as fp:\n",
    "    rawData = json.load(fp)\n",
    "    df = pd.DataFrame()\n",
    "    for terminal, curbs in terminalSegments.items():\n",
    "        print(\"Processing curbs in terminal \" + terminal)\n",
    "        for curbName, segmentIds in curbs.items():\n",
    "            for segmentId in segmentIds:\n",
    "                feature = next(x for x in rawData[\"features\"] if x[\"properties\"][\"segmentId\"] == segmentId)\n",
    "                sampleSizes = [x[\"sampleSize\"] for x in feature[\"properties\"][\"segmentTimeResults\"]]\n",
    "                df = df.append([[terminal, curbName, segmentId] + sampleSizes])\n",
    "totalHours = len(rawData[\"features\"][0][\"properties\"][\"segmentTimeResults\"])\n",
    "timeStamps = [timeStamp + datetime.timedelta(hours=x) for x in range(totalHours)]\n",
    "columnNames = [\"Terminal\", \"CurbName\", \"SegmentId\"] + timeStamps\n",
    "df.columns = columnNames\n",
    "print(\"Saving results to \" + resultsFile)\n",
    "df.to_csv(resultsFile)"
   ]
  },
  {
   "cell_type": "code",
   "execution_count": null,
   "metadata": {},
   "outputs": [],
   "source": []
  }
 ],
 "metadata": {
  "kernelspec": {
   "display_name": "Python 3",
   "language": "python",
   "name": "python3"
  },
  "language_info": {
   "codemirror_mode": {
    "name": "ipython",
    "version": 3
   },
   "file_extension": ".py",
   "mimetype": "text/x-python",
   "name": "python",
   "nbconvert_exporter": "python",
   "pygments_lexer": "ipython3",
   "version": "3.7.4"
  }
 },
 "nbformat": 4,
 "nbformat_minor": 2
}
