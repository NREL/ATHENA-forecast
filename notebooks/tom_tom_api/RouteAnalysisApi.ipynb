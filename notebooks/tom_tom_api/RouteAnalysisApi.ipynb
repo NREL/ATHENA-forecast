{
 "cells": [
  {
   "cell_type": "markdown",
   "metadata": {},
   "source": [
    "# Route Analysis Api\n",
    "## Introduction\n",
    "\n"
   ]
  },
  {
   "cell_type": "markdown",
   "metadata": {},
   "source": [
    "## Choose dates and other parameters here"
   ]
  },
  {
   "cell_type": "code",
   "execution_count": 2,
   "metadata": {},
   "outputs": [
    {
     "name": "stdout",
     "output_type": "stream",
     "text": [
      "Created request object for 2018-09-23. Ready to POST a request.\n"
     ]
    }
   ],
   "source": [
    "from datetime import datetime\n",
    "import requests\n",
    "import json\n",
    "\n",
    "import athena\n",
    "\n",
    "import utils\n",
    "\n",
    "date = \"2018-09-23\" # Change this and then execute the cell. Must use YYYY-MM-DD format.\n",
    "\n",
    "# The apiHelper module defines northTollPlazaLoc, southTollPlazaLoc, northExitLoc, and southExitLoc.\n",
    "datetime_object = datetime.strptime(date, \"%Y-%m-%d\")\n",
    "day_of_the_week = utils.days[datetime_object.weekday()]\n",
    "requestObject = {\n",
    "  \"jobName\":\"Test job\",\n",
    "  \"distanceUnit\":\"MILES\",\n",
    "  \"routes\":[\n",
    "    {\n",
    "      \"name\":\"NorthToSouth\",\n",
    "      \"start\":utils.northTollPlazaLoc,\n",
    "      \"via\":[],\n",
    "      \"end\":utils.southExitLoc,\n",
    "      \"fullTraversal\":False,\n",
    "      \"zoneId\":\"US/Central\",\n",
    "      \"probeSource\":\"ALL\"\n",
    "    },\n",
    "    {\n",
    "      \"name\":\"SouthToNorth\",\n",
    "      \"start\":utils.southTollPlazaLoc,\n",
    "      \"via\":[],\n",
    "      \"end\":utils.northExitLoc,\n",
    "      \"fullTraversal\":False,\n",
    "      \"zoneId\":\"US/Central\",\n",
    "      \"probeSource\":\"ALL\"\n",
    "    }\n",
    "  ],\n",
    "    \"dateRanges\":[{\n",
    "        \"name\":datetime_object.strftime(\"%a %b %-d %Y\"), # Again this name is just for our convenience and can be anything.\n",
    "        \"from\":date,\n",
    "        \"to\":date\n",
    "    }],\n",
    "  \"timeSets\": utils.get_24_hours(day_of_the_week) # We want all 24 hour buckets.\n",
    "}\n",
    "\n",
    "print(\"Created request object for {}. Ready to POST a request.\".format(date))"
   ]
  },
  {
   "cell_type": "markdown",
   "metadata": {},
   "source": [
    "## Execute this cell to send a new request to TomTom\n",
    "This sends the request to TomTom. It will return a jobId. We will use that jobId to ask TomTom if it is done processing the request in the next cell.\n",
    "\n",
    "NOTE: There seems to be some problem in verifying the SSL/TLS cert for api.tomtom.com, so I have disabled verification. Because this prints an ugly warning message I capture (hide) everything except stdout with %%capture."
   ]
  },
  {
   "cell_type": "code",
   "execution_count": 4,
   "metadata": {},
   "outputs": [
    {
     "name": "stdout",
     "output_type": "stream",
     "text": [
      "Successful POST\n",
      "jobId = 529379\n"
     ]
    }
   ],
   "source": [
    "%%capture --no-stdout\n",
    "\n",
    "API_KEY = athena.tom_tom.get_api_key()\n",
    "\n",
    "url = \"https://api.tomtom.com/traffic/trafficstats/routeanalysis/1?key={}\".format(API_KEY)\n",
    "r = requests.post(url, verify=False, json=requestObject)\n",
    "if (r.status_code == 200):\n",
    "    print(\"Successful POST\")\n",
    "    job_id = json.loads(r.text)[\"jobId\"]\n",
    "    print(\"jobId = \" + job_id)\n",
    "else:\n",
    "    print(\"Error in POST\")\n",
    "    print(r.status_code)\n",
    "    print(r.text)"
   ]
  },
  {
   "cell_type": "markdown",
   "metadata": {},
   "source": [
    "## Execute this cell to check on a request\n",
    "This cell will make a call to the TomTom API to check on the status of the job `jobId`.\n",
    "\n",
    "When the job is complete the response will contain urls to geojson, json, and zip files that contain the results. We exclusively use the geojson file. You can manually copy and paste the url into your browser and the file will download.\n",
    "\n",
    "NOTE: There seems to be some problem in verifying the SSL/TLS cert for api.tomtom.com, so I have disabled verification. Because this prints an ugly warning message I capture (hide) everything except stdout with %%capture."
   ]
  },
  {
   "cell_type": "code",
   "execution_count": 5,
   "metadata": {},
   "outputs": [
    {
     "name": "stdout",
     "output_type": "stream",
     "text": [
      "200\n",
      "{\"responseStatus\":\"OK\",\"jobId\":\"529379\",\"jobState\":\"DONE\",\"urls\":[\"https://prod-trafficstats-tomtom.s3.eu-west-1.amazonaws.com/2019/09/12/529379/a2f89b0f/Test_job.geojson.zip\",\"https://prod-trafficstats-tomtom.s3.eu-west-1.amazonaws.com/2019/09/12/529379/a2f89b0f/Test_job.json\",\"https://prod-trafficstats-tomtom.s3.eu-west-1.amazonaws.com/2019/09/12/529379/a2f89b0f/Test_job.kmz\",\"https://prod-trafficstats-tomtom.s3.eu-west-1.amazonaws.com/2019/09/12/529379/a2f89b0f/Test_job.shapefile.zip\",\"https://prod-trafficstats-tomtom.s3.eu-west-1.amazonaws.com/2019/09/12/529379/a2f89b0f/Test_job.xlsx\"]}\n"
     ]
    }
   ],
   "source": [
    "%%capture --no-stdout\n",
    "url_get = \"https://api.tomtom.com/traffic/trafficstats/status/1/{}?key={}\".format(job_id, API_KEY)\n",
    "response = requests.get(url_get, verify=False)\n",
    "print(response.status_code)\n",
    "print(response.text)"
   ]
  },
  {
   "cell_type": "code",
   "execution_count": null,
   "metadata": {},
   "outputs": [],
   "source": []
  }
 ],
 "metadata": {
  "kernelspec": {
   "display_name": "Python 3",
   "language": "python",
   "name": "python3"
  },
  "language_info": {
   "codemirror_mode": {
    "name": "ipython",
    "version": 3
   },
   "file_extension": ".py",
   "mimetype": "text/x-python",
   "name": "python",
   "nbconvert_exporter": "python",
   "pygments_lexer": "ipython3",
   "version": "3.7.4"
  }
 },
 "nbformat": 4,
 "nbformat_minor": 2
}
