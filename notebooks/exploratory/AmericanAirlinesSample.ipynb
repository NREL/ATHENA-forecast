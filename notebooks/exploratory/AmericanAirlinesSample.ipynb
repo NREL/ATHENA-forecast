{
 "cells": [
  {
   "cell_type": "code",
   "execution_count": 5,
   "metadata": {},
   "outputs": [],
   "source": [
    "import pandas as pd\n",
    "import os\n",
    "\n",
    "DIRECTORY = os.environ.get(\"ATHENA_DATA_PATH\")\n",
    "df = pd.read_excel(os.path.join(DIRECTORY, \"AA DFW Traffic 2019 YTD.xlsx\"))"
   ]
  },
  {
   "cell_type": "code",
   "execution_count": 6,
   "metadata": {},
   "outputs": [
    {
     "data": {
      "text/html": [
       "<div>\n",
       "<style scoped>\n",
       "    .dataframe tbody tr th:only-of-type {\n",
       "        vertical-align: middle;\n",
       "    }\n",
       "\n",
       "    .dataframe tbody tr th {\n",
       "        vertical-align: top;\n",
       "    }\n",
       "\n",
       "    .dataframe thead th {\n",
       "        text-align: right;\n",
       "    }\n",
       "</style>\n",
       "<table border=\"1\" class=\"dataframe\">\n",
       "  <thead>\n",
       "    <tr style=\"text-align: right;\">\n",
       "      <th></th>\n",
       "      <th>schd_dep_dt</th>\n",
       "      <th>op_flight_nbr</th>\n",
       "      <th>departure_airport</th>\n",
       "      <th>arrival_airport</th>\n",
       "      <th>departure_time</th>\n",
       "      <th>arrival_time</th>\n",
       "      <th>equipment_cd</th>\n",
       "      <th>available_seats</th>\n",
       "      <th>onbrd_pax</th>\n",
       "      <th>DFW_Local_Pax</th>\n",
       "      <th>Flow_over_DFW_Pax</th>\n",
       "      <th>Mail_LB_qty</th>\n",
       "      <th>Cargo_LB_qty</th>\n",
       "    </tr>\n",
       "  </thead>\n",
       "  <tbody>\n",
       "    <tr>\n",
       "      <td>0</td>\n",
       "      <td>2019-01-01</td>\n",
       "      <td>5</td>\n",
       "      <td>DFW</td>\n",
       "      <td>HNL</td>\n",
       "      <td>11:15:00</td>\n",
       "      <td>15:54:00</td>\n",
       "      <td>772</td>\n",
       "      <td>272</td>\n",
       "      <td>244</td>\n",
       "      <td>71</td>\n",
       "      <td>173</td>\n",
       "      <td>60</td>\n",
       "      <td>117</td>\n",
       "    </tr>\n",
       "    <tr>\n",
       "      <td>1</td>\n",
       "      <td>2019-01-01</td>\n",
       "      <td>6</td>\n",
       "      <td>OGG</td>\n",
       "      <td>DFW</td>\n",
       "      <td>19:00:00</td>\n",
       "      <td>06:04:00</td>\n",
       "      <td>772</td>\n",
       "      <td>272</td>\n",
       "      <td>250</td>\n",
       "      <td>94</td>\n",
       "      <td>156</td>\n",
       "      <td>0</td>\n",
       "      <td>0</td>\n",
       "    </tr>\n",
       "    <tr>\n",
       "      <td>2</td>\n",
       "      <td>2019-01-01</td>\n",
       "      <td>7</td>\n",
       "      <td>DFW</td>\n",
       "      <td>OGG</td>\n",
       "      <td>09:15:00</td>\n",
       "      <td>13:49:00</td>\n",
       "      <td>772</td>\n",
       "      <td>272</td>\n",
       "      <td>171</td>\n",
       "      <td>77</td>\n",
       "      <td>94</td>\n",
       "      <td>0</td>\n",
       "      <td>1317</td>\n",
       "    </tr>\n",
       "    <tr>\n",
       "      <td>3</td>\n",
       "      <td>2019-01-01</td>\n",
       "      <td>8</td>\n",
       "      <td>HNL</td>\n",
       "      <td>DFW</td>\n",
       "      <td>18:25:00</td>\n",
       "      <td>05:45:00</td>\n",
       "      <td>772</td>\n",
       "      <td>272</td>\n",
       "      <td>259</td>\n",
       "      <td>66</td>\n",
       "      <td>193</td>\n",
       "      <td>0</td>\n",
       "      <td>7376</td>\n",
       "    </tr>\n",
       "    <tr>\n",
       "      <td>4</td>\n",
       "      <td>2019-01-01</td>\n",
       "      <td>9</td>\n",
       "      <td>MSY</td>\n",
       "      <td>DFW</td>\n",
       "      <td>08:07:00</td>\n",
       "      <td>09:55:00</td>\n",
       "      <td>738</td>\n",
       "      <td>160</td>\n",
       "      <td>152</td>\n",
       "      <td>29</td>\n",
       "      <td>123</td>\n",
       "      <td>0</td>\n",
       "      <td>0</td>\n",
       "    </tr>\n",
       "  </tbody>\n",
       "</table>\n",
       "</div>"
      ],
      "text/plain": [
       "  schd_dep_dt  op_flight_nbr departure_airport arrival_airport departure_time  \\\n",
       "0  2019-01-01              5               DFW             HNL       11:15:00   \n",
       "1  2019-01-01              6               OGG             DFW       19:00:00   \n",
       "2  2019-01-01              7               DFW             OGG       09:15:00   \n",
       "3  2019-01-01              8               HNL             DFW       18:25:00   \n",
       "4  2019-01-01              9               MSY             DFW       08:07:00   \n",
       "\n",
       "  arrival_time equipment_cd  available_seats  onbrd_pax  DFW_Local_Pax  \\\n",
       "0     15:54:00          772              272        244             71   \n",
       "1     06:04:00          772              272        250             94   \n",
       "2     13:49:00          772              272        171             77   \n",
       "3     05:45:00          772              272        259             66   \n",
       "4     09:55:00          738              160        152             29   \n",
       "\n",
       "   Flow_over_DFW_Pax  Mail_LB_qty  Cargo_LB_qty  \n",
       "0                173           60           117  \n",
       "1                156            0             0  \n",
       "2                 94            0          1317  \n",
       "3                193            0          7376  \n",
       "4                123            0             0  "
      ]
     },
     "execution_count": 6,
     "metadata": {},
     "output_type": "execute_result"
    }
   ],
   "source": [
    "df.head()"
   ]
  },
  {
   "cell_type": "markdown",
   "metadata": {},
   "source": [
    "What is the load?"
   ]
  },
  {
   "cell_type": "code",
   "execution_count": 7,
   "metadata": {},
   "outputs": [
    {
     "data": {
      "text/plain": [
       "0.8025819391745919"
      ]
     },
     "execution_count": 7,
     "metadata": {},
     "output_type": "execute_result"
    }
   ],
   "source": [
    "(df['onbrd_pax']/df['available_seats']).mean()"
   ]
  },
  {
   "cell_type": "markdown",
   "metadata": {},
   "source": [
    "What is the O/D?"
   ]
  },
  {
   "cell_type": "code",
   "execution_count": 10,
   "metadata": {},
   "outputs": [
    {
     "data": {
      "text/plain": [
       "0.3414271549367068"
      ]
     },
     "execution_count": 10,
     "metadata": {},
     "output_type": "execute_result"
    }
   ],
   "source": [
    "(df['DFW_Local_Pax']/df['onbrd_pax']).mean()"
   ]
  },
  {
   "cell_type": "code",
   "execution_count": 8,
   "metadata": {},
   "outputs": [
    {
     "data": {
      "text/plain": [
       "0.3782915356801928"
      ]
     },
     "execution_count": 8,
     "metadata": {},
     "output_type": "execute_result"
    }
   ],
   "source": [
    "df.sum(axis=0)['DFW_Local_Pax']/df.sum(axis=0)['onbrd_pax']"
   ]
  },
  {
   "cell_type": "markdown",
   "metadata": {},
   "source": [
    "Just passing though DFW"
   ]
  },
  {
   "cell_type": "code",
   "execution_count": 11,
   "metadata": {},
   "outputs": [
    {
     "data": {
      "text/plain": [
       "0.6585728450632932"
      ]
     },
     "execution_count": 11,
     "metadata": {},
     "output_type": "execute_result"
    }
   ],
   "source": [
    "(df['Flow_over_DFW_Pax']/df['onbrd_pax']).mean()"
   ]
  },
  {
   "cell_type": "code",
   "execution_count": 9,
   "metadata": {},
   "outputs": [
    {
     "data": {
      "text/plain": [
       "0.6217084643198072"
      ]
     },
     "execution_count": 9,
     "metadata": {},
     "output_type": "execute_result"
    }
   ],
   "source": [
    "df.sum(axis=0)['Flow_over_DFW_Pax']/df.sum(axis=0)['onbrd_pax']"
   ]
  },
  {
   "cell_type": "code",
   "execution_count": null,
   "metadata": {},
   "outputs": [],
   "source": []
  }
 ],
 "metadata": {
  "kernelspec": {
   "display_name": "Python 3",
   "language": "python",
   "name": "python3"
  },
  "language_info": {
   "codemirror_mode": {
    "name": "ipython",
    "version": 3
   },
   "file_extension": ".py",
   "mimetype": "text/x-python",
   "name": "python",
   "nbconvert_exporter": "python",
   "pygments_lexer": "ipython3",
   "version": "3.7.4"
  }
 },
 "nbformat": 4,
 "nbformat_minor": 2
}
